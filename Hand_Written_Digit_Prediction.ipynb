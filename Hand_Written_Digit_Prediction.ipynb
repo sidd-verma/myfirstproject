{
  "nbformat": 4,
  "nbformat_minor": 0,
  "metadata": {
    "colab": {
      "provenance": [],
      "authorship_tag": "ABX9TyOyWGSo2nWNUqt4xn51kmZZ",
      "include_colab_link": true
    },
    "kernelspec": {
      "name": "python3",
      "display_name": "Python 3"
    },
    "language_info": {
      "name": "python"
    }
  },
  "cells": [
    {
      "cell_type": "markdown",
      "metadata": {
        "id": "view-in-github",
        "colab_type": "text"
      },
      "source": [
        "<a href=\"https://colab.research.google.com/github/sidd-verma/myfirstproject/blob/main/Hand_Written_Digit_Prediction.ipynb\" target=\"_parent\"><img src=\"https://colab.research.google.com/assets/colab-badge.svg\" alt=\"Open In Colab\"/></a>"
      ]
    },
    {
      "cell_type": "markdown",
      "source": [
        "# **Title: Hand Written Digit Prediction- Classification Analysis**\n",
        "\n",
        "\n"
      ],
      "metadata": {
        "id": "p7QvxFiiJHSd"
      }
    },
    {
      "cell_type": "markdown",
      "source": [
        "**Objective:** The digit dataset consists of 8x8 pixel images of digits. The image attribute of the dataset stores 8x8 arrays of grayscale values for each image. We will use these arrays to visualize the first 4 images. The target attribute of the dataset stores the digit each image represents."
      ],
      "metadata": {
        "id": "X5GKXVrDJvjm"
      }
    },
    {
      "cell_type": "markdown",
      "source": [
        "**Data Source:** https://github.com/YBI-Foundation/Dataset/blob/main/HRDataset.csv"
      ],
      "metadata": {
        "id": "Mk_n_zhGKifC"
      }
    },
    {
      "cell_type": "markdown",
      "source": [
        "# **Import Library**"
      ],
      "metadata": {
        "id": "8w3HsieXK8EZ"
      }
    },
    {
      "cell_type": "code",
      "execution_count": 8,
      "metadata": {
        "id": "YjgBamblGDtl"
      },
      "outputs": [],
      "source": [
        "import pandas as pd"
      ]
    },
    {
      "cell_type": "code",
      "source": [
        "import numpy as np"
      ],
      "metadata": {
        "id": "XlHFCiCfLibA"
      },
      "execution_count": 9,
      "outputs": []
    },
    {
      "cell_type": "code",
      "source": [
        "import matplotlib.pyplot as plt"
      ],
      "metadata": {
        "id": "yVoo_KgrLkjV"
      },
      "execution_count": 7,
      "outputs": []
    },
    {
      "cell_type": "markdown",
      "source": [
        "# **Import Data**"
      ],
      "metadata": {
        "id": "kPb-t22wPb4q"
      }
    },
    {
      "cell_type": "code",
      "source": [
        "from sklearn.datasets import load_digits"
      ],
      "metadata": {
        "id": "MWuZIha1LoL1"
      },
      "execution_count": 1,
      "outputs": []
    },
    {
      "cell_type": "code",
      "source": [
        "df=load_digits()"
      ],
      "metadata": {
        "id": "mqg6oIKnPmuW"
      },
      "execution_count": 2,
      "outputs": []
    },
    {
      "cell_type": "markdown",
      "source": [
        "# **Data Visualization**"
      ],
      "metadata": {
        "id": "L67bfnXLdS4F"
      }
    },
    {
      "cell_type": "code",
      "source": [
        "_,axes = plt.subplots(nrows=1, ncols=4, figsize=(10,3))\n",
        "for ax, image,label in zip(axes, df.images, df.target):\n",
        "  ax.set_axis_off()\n",
        "  ax.imshow(image, cmap=plt.cm.gray_r, interpolation=\"nearest\")\n",
        "  ax.set_title(\"Training: %i\" %label)"
      ],
      "metadata": {
        "colab": {
          "base_uri": "https://localhost:8080/",
          "height": 227
        },
        "id": "l1VfXskBPqO5",
        "outputId": "b22f6cd9-da6b-4548-e49d-6f930e576874"
      },
      "execution_count": 15,
      "outputs": [
        {
          "output_type": "display_data",
          "data": {
            "text/plain": [
              "<Figure size 1000x300 with 4 Axes>"
            ],
            "image/png": "[encoded data removed]"
          },
          "metadata": {}
        }
      ]
    },
    {
      "cell_type": "markdown",
      "source": [
        "# **Data Preprocessing**"
      ],
      "metadata": {
        "id": "b34XwekvTBdl"
      }
    },
    {
      "cell_type": "markdown",
      "source": [
        "**Flatten Image**"
      ],
      "metadata": {
        "id": "OvjOXDjoTG5y"
      }
    },
    {
      "cell_type": "markdown",
      "source": [
        "#                                  **8x8 image**\n",
        "  \n",
        "  \n",
        "![2.jpg](data:image/jpeg;base64,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)\n",
        "\n",
        "\n"
      ],
      "metadata": {
        "id": "IkIs6MijVfby"
      }
    },
    {
      "cell_type": "markdown",
      "source": [
        "![1.jpg](data:image/jpeg;base64,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)"
      ],
      "metadata": {
        "id": "tQGObFZMboaX"
      }
    },
    {
      "cell_type": "code",
      "source": [
        "df.images.shape"
      ],
      "metadata": {
        "colab": {
          "base_uri": "https://localhost:8080/"
        },
        "id": "q_tY_5ZzQY10",
        "outputId": "00b34111-41e7-4cb3-ad37-d5f5fc407580"
      },
      "execution_count": 16,
      "outputs": [
        {
          "output_type": "execute_result",
          "data": {
            "text/plain": [
              "(1797, 8, 8)"
            ]
          },
          "metadata": {},
          "execution_count": 16
        }
      ]
    },
    {
      "cell_type": "code",
      "source": [
        "df.images[0]"
      ],
      "metadata": {
        "colab": {
          "base_uri": "https://localhost:8080/"
        },
        "id": "t5mL4BZLcrZL",
        "outputId": "7161b9a8-51d1-499a-b0d1-ba729b2abb49"
      },
      "execution_count": 17,
      "outputs": [
        {
          "output_type": "execute_result",
          "data": {
            "text/plain": [
              "array([[ 0.,  0.,  5., 13.,  9.,  1.,  0.,  0.],\n",
              "       [ 0.,  0., 13., 15., 10., 15.,  5.,  0.],\n",
              "       [ 0.,  3., 15.,  2.,  0., 11.,  8.,  0.],\n",
              "       [ 0.,  4., 12.,  0.,  0.,  8.,  8.,  0.],\n",
              "       [ 0.,  5.,  8.,  0.,  0.,  9.,  8.,  0.],\n",
              "       [ 0.,  4., 11.,  0.,  1., 12.,  7.,  0.],\n",
              "       [ 0.,  2., 14.,  5., 10., 12.,  0.,  0.],\n",
              "       [ 0.,  0.,  6., 13., 10.,  0.,  0.,  0.]])"
            ]
          },
          "metadata": {},
          "execution_count": 17
        }
      ]
    },
    {
      "cell_type": "code",
      "source": [
        "df.images[0].shape"
      ],
      "metadata": {
        "colab": {
          "base_uri": "https://localhost:8080/"
        },
        "id": "AxV64kRIcuJY",
        "outputId": "ce9e8685-42c0-40c7-9848-8901556965f6"
      },
      "execution_count": 18,
      "outputs": [
        {
          "output_type": "execute_result",
          "data": {
            "text/plain": [
              "(8, 8)"
            ]
          },
          "metadata": {},
          "execution_count": 18
        }
      ]
    },
    {
      "cell_type": "code",
      "source": [
        "len(df.images)"
      ],
      "metadata": {
        "colab": {
          "base_uri": "https://localhost:8080/"
        },
        "id": "jnEMshsxcyAi",
        "outputId": "ba444131-6ba6-4f75-8692-8480e86804df"
      },
      "execution_count": 20,
      "outputs": [
        {
          "output_type": "execute_result",
          "data": {
            "text/plain": [
              "1797"
            ]
          },
          "metadata": {},
          "execution_count": 20
        }
      ]
    },
    {
      "cell_type": "code",
      "source": [
        "n_samples =len(df.images)\n",
        "data= df.images.reshape((n_samples, -1))"
      ],
      "metadata": {
        "id": "o6pVEzr6c1IW"
      },
      "execution_count": 21,
      "outputs": []
    },
    {
      "cell_type": "code",
      "source": [
        "data[0]"
      ],
      "metadata": {
        "colab": {
          "base_uri": "https://localhost:8080/"
        },
        "id": "eTEmySPkdCbv",
        "outputId": "d11b22bd-299d-4409-8f55-21a0fffae62a"
      },
      "execution_count": 22,
      "outputs": [
        {
          "output_type": "execute_result",
          "data": {
            "text/plain": [
              "array([ 0.,  0.,  5., 13.,  9.,  1.,  0.,  0.,  0.,  0., 13., 15., 10.,\n",
              "       15.,  5.,  0.,  0.,  3., 15.,  2.,  0., 11.,  8.,  0.,  0.,  4.,\n",
              "       12.,  0.,  0.,  8.,  8.,  0.,  0.,  5.,  8.,  0.,  0.,  9.,  8.,\n",
              "        0.,  0.,  4., 11.,  0.,  1., 12.,  7.,  0.,  0.,  2., 14.,  5.,\n",
              "       10., 12.,  0.,  0.,  0.,  0.,  6., 13., 10.,  0.,  0.,  0.])"
            ]
          },
          "metadata": {},
          "execution_count": 22
        }
      ]
    },
    {
      "cell_type": "code",
      "source": [
        "data[0].shape"
      ],
      "metadata": {
        "colab": {
          "base_uri": "https://localhost:8080/"
        },
        "id": "-O6TioNCdFVX",
        "outputId": "525dc637-37c7-4993-f8fe-b451068f44f0"
      },
      "execution_count": 23,
      "outputs": [
        {
          "output_type": "execute_result",
          "data": {
            "text/plain": [
              "(64,)"
            ]
          },
          "metadata": {},
          "execution_count": 23
        }
      ]
    },
    {
      "cell_type": "code",
      "source": [
        "data.shape"
      ],
      "metadata": {
        "colab": {
          "base_uri": "https://localhost:8080/"
        },
        "id": "cIFRzafudG94",
        "outputId": "586220cd-f816-49ae-c557-423f6da21ae4"
      },
      "execution_count": 24,
      "outputs": [
        {
          "output_type": "execute_result",
          "data": {
            "text/plain": [
              "(1797, 64)"
            ]
          },
          "metadata": {},
          "execution_count": 24
        }
      ]
    },
    {
      "cell_type": "markdown",
      "source": [
        "# **Scaling Image Data**"
      ],
      "metadata": {
        "id": "hg48jjM1dLZy"
      }
    },
    {
      "cell_type": "code",
      "source": [
        "data.min()"
      ],
      "metadata": {
        "colab": {
          "base_uri": "https://localhost:8080/"
        },
        "id": "Medua09QdI3E",
        "outputId": "579c91da-21a1-4628-ca80-d30a65cf69dd"
      },
      "execution_count": 25,
      "outputs": [
        {
          "output_type": "execute_result",
          "data": {
            "text/plain": [
              "0.0"
            ]
          },
          "metadata": {},
          "execution_count": 25
        }
      ]
    },
    {
      "cell_type": "code",
      "source": [
        "data.max()"
      ],
      "metadata": {
        "colab": {
          "base_uri": "https://localhost:8080/"
        },
        "id": "Au4tvp-Gdix2",
        "outputId": "7a38ac86-c160-481a-da9b-80d0c27a95ae"
      },
      "execution_count": 26,
      "outputs": [
        {
          "output_type": "execute_result",
          "data": {
            "text/plain": [
              "16.0"
            ]
          },
          "metadata": {},
          "execution_count": 26
        }
      ]
    },
    {
      "cell_type": "code",
      "source": [
        "data=data/16"
      ],
      "metadata": {
        "id": "eCah6vazdkOm"
      },
      "execution_count": 27,
      "outputs": []
    },
    {
      "cell_type": "code",
      "source": [
        "data.min()"
      ],
      "metadata": {
        "colab": {
          "base_uri": "https://localhost:8080/"
        },
        "id": "g-MY76TDdmSc",
        "outputId": "40477e4d-97c9-4589-fea6-5a61921e0ea9"
      },
      "execution_count": 28,
      "outputs": [
        {
          "output_type": "execute_result",
          "data": {
            "text/plain": [
              "0.0"
            ]
          },
          "metadata": {},
          "execution_count": 28
        }
      ]
    },
    {
      "cell_type": "code",
      "source": [
        "data.max()"
      ],
      "metadata": {
        "colab": {
          "base_uri": "https://localhost:8080/"
        },
        "id": "e_cpoXTVdoou",
        "outputId": "32704eba-3b81-46dd-cefe-f76432bc35e2"
      },
      "execution_count": 29,
      "outputs": [
        {
          "output_type": "execute_result",
          "data": {
            "text/plain": [
              "1.0"
            ]
          },
          "metadata": {},
          "execution_count": 29
        }
      ]
    },
    {
      "cell_type": "code",
      "source": [
        "data[0]"
      ],
      "metadata": {
        "colab": {
          "base_uri": "https://localhost:8080/"
        },
        "id": "xHXQo04ZdrwS",
        "outputId": "4b354907-a212-401d-d1c2-a6ee9fd2daa6"
      },
      "execution_count": 30,
      "outputs": [
        {
          "output_type": "execute_result",
          "data": {
            "text/plain": [
              "array([0.    , 0.    , 0.3125, 0.8125, 0.5625, 0.0625, 0.    , 0.    ,\n",
              "       0.    , 0.    , 0.8125, 0.9375, 0.625 , 0.9375, 0.3125, 0.    ,\n",
              "       0.    , 0.1875, 0.9375, 0.125 , 0.    , 0.6875, 0.5   , 0.    ,\n",
              "       0.    , 0.25  , 0.75  , 0.    , 0.    , 0.5   , 0.5   , 0.    ,\n",
              "       0.    , 0.3125, 0.5   , 0.    , 0.    , 0.5625, 0.5   , 0.    ,\n",
              "       0.    , 0.25  , 0.6875, 0.    , 0.0625, 0.75  , 0.4375, 0.    ,\n",
              "       0.    , 0.125 , 0.875 , 0.3125, 0.625 , 0.75  , 0.    , 0.    ,\n",
              "       0.    , 0.    , 0.375 , 0.8125, 0.625 , 0.    , 0.    , 0.    ])"
            ]
          },
          "metadata": {},
          "execution_count": 30
        }
      ]
    },
    {
      "cell_type": "markdown",
      "source": [
        "# **Target Variable(df.target) and Feature Variable(data)**"
      ],
      "metadata": {
        "id": "tSpPIKF3h2En"
      }
    },
    {
      "cell_type": "code",
      "source": [
        "data"
      ],
      "metadata": {
        "colab": {
          "base_uri": "https://localhost:8080/"
        },
        "id": "hnuk_cSChFNx",
        "outputId": "d481911e-0fbd-4497-bf6e-906ee3eaa494"
      },
      "execution_count": 42,
      "outputs": [
        {
          "output_type": "execute_result",
          "data": {
            "text/plain": [
              "array([[0.    , 0.    , 0.3125, ..., 0.    , 0.    , 0.    ],\n",
              "       [0.    , 0.    , 0.    , ..., 0.625 , 0.    , 0.    ],\n",
              "       [0.    , 0.    , 0.    , ..., 1.    , 0.5625, 0.    ],\n",
              "       ...,\n",
              "       [0.    , 0.    , 0.0625, ..., 0.375 , 0.    , 0.    ],\n",
              "       [0.    , 0.    , 0.125 , ..., 0.75  , 0.    , 0.    ],\n",
              "       [0.    , 0.    , 0.625 , ..., 0.75  , 0.0625, 0.    ]])"
            ]
          },
          "metadata": {},
          "execution_count": 42
        }
      ]
    },
    {
      "cell_type": "code",
      "source": [
        "df.target"
      ],
      "metadata": {
        "colab": {
          "base_uri": "https://localhost:8080/"
        },
        "id": "aonNwkv-htfZ",
        "outputId": "7f464b89-441f-4bc4-ea5d-88933a588dae"
      },
      "execution_count": 43,
      "outputs": [
        {
          "output_type": "execute_result",
          "data": {
            "text/plain": [
              "array([0, 1, 2, ..., 8, 9, 8])"
            ]
          },
          "metadata": {},
          "execution_count": 43
        }
      ]
    },
    {
      "cell_type": "markdown",
      "source": [
        "# **Train test Split Data**"
      ],
      "metadata": {
        "id": "A3nMZ8LDdu6y"
      }
    },
    {
      "cell_type": "code",
      "source": [
        "from sklearn.model_selection import train_test_split"
      ],
      "metadata": {
        "id": "4fZdzt2Pds6E"
      },
      "execution_count": 31,
      "outputs": []
    },
    {
      "cell_type": "code",
      "source": [
        "X_train, X_test, y_train, y_test = train_test_split(data, df.target, test_size=0.3)"
      ],
      "metadata": {
        "id": "2i7fQMuwe-Sl"
      },
      "execution_count": 32,
      "outputs": []
    },
    {
      "cell_type": "code",
      "source": [
        "X_train.shape,X_test.shape, y_train.shape, y_test.shape"
      ],
      "metadata": {
        "colab": {
          "base_uri": "https://localhost:8080/"
        },
        "id": "sLR-hytafKV0",
        "outputId": "8ead208d-d333-4cac-cc80-4560b19084ee"
      },
      "execution_count": 33,
      "outputs": [
        {
          "output_type": "execute_result",
          "data": {
            "text/plain": [
              "((1257, 64), (540, 64), (1257,), (540,))"
            ]
          },
          "metadata": {},
          "execution_count": 33
        }
      ]
    },
    {
      "cell_type": "markdown",
      "source": [
        "# **Random Forest Model(Modelling)**\n",
        "\n"
      ],
      "metadata": {
        "id": "ROodKdONfUX9"
      }
    },
    {
      "cell_type": "code",
      "source": [
        "from sklearn.ensemble import RandomForestClassifier"
      ],
      "metadata": {
        "id": "7EMZ8CfvfRhY"
      },
      "execution_count": 34,
      "outputs": []
    },
    {
      "cell_type": "code",
      "source": [
        "rf= RandomForestClassifier()"
      ],
      "metadata": {
        "id": "jxWNyGEQfk_4"
      },
      "execution_count": 35,
      "outputs": []
    },
    {
      "cell_type": "code",
      "source": [
        "rf.fit(X_train, y_train)"
      ],
      "metadata": {
        "colab": {
          "base_uri": "https://localhost:8080/",
          "height": 74
        },
        "id": "Z14Hc1IlfoT2",
        "outputId": "f1abe1cf-e03c-4f79-8535-803c31209f0b"
      },
      "execution_count": 36,
      "outputs": [
        {
          "output_type": "execute_result",
          "data": {
            "text/plain": [
              "RandomForestClassifier()"
            ],
            "text/html": [
              "<style>#sk-container-id-1 {color: black;background-color: white;}#sk-container-id-1 pre{padding: 0;}#sk-container-id-1 div.sk-toggleable {background-color: white;}#sk-container-id-1 label.sk-toggleable__label {cursor: pointer;display: block;width: 100%;margin-bottom: 0;padding: 0.3em;box-sizing: border-box;text-align: center;}#sk-container-id-1 label.sk-toggleable__label-arrow:before {content: \"▸\";float: left;margin-right: 0.25em;color: #696969;}#sk-container-id-1 label.sk-toggleable__label-arrow:hover:before {color: black;}#sk-container-id-1 div.sk-estimator:hover label.sk-toggleable__label-arrow:before {color: black;}#sk-container-id-1 div.sk-toggleable__content {max-height: 0;max-width: 0;overflow: hidden;text-align: left;background-color: #f0f8ff;}#sk-container-id-1 div.sk-toggleable__content pre {margin: 0.2em;color: black;border-radius: 0.25em;background-color: #f0f8ff;}#sk-container-id-1 input.sk-toggleable__control:checked~div.sk-toggleable__content {max-height: 200px;max-width: 100%;overflow: auto;}#sk-container-id-1 input.sk-toggleable__control:checked~label.sk-toggleable__label-arrow:before {content: \"▾\";}#sk-container-id-1 div.sk-estimator input.sk-toggleable__control:checked~label.sk-toggleable__label {background-color: #d4ebff;}#sk-container-id-1 div.sk-label input.sk-toggleable__control:checked~label.sk-toggleable__label {background-color: #d4ebff;}#sk-container-id-1 input.sk-hidden--visually {border: 0;clip: rect(1px 1px 1px 1px);clip: rect(1px, 1px, 1px, 1px);height: 1px;margin: -1px;overflow: hidden;padding: 0;position: absolute;width: 1px;}#sk-container-id-1 div.sk-estimator {font-family: monospace;background-color: #f0f8ff;border: 1px dotted black;border-radius: 0.25em;box-sizing: border-box;margin-bottom: 0.5em;}#sk-container-id-1 div.sk-estimator:hover {background-color: #d4ebff;}#sk-container-id-1 div.sk-parallel-item::after {content: \"\";width: 100%;border-bottom: 1px solid gray;flex-grow: 1;}#sk-container-id-1 div.sk-label:hover label.sk-toggleable__label {background-color: #d4ebff;}#sk-container-id-1 div.sk-serial::before {content: \"\";position: absolute;border-left: 1px solid gray;box-sizing: border-box;top: 0;bottom: 0;left: 50%;z-index: 0;}#sk-container-id-1 div.sk-serial {display: flex;flex-direction: column;align-items: center;background-color: white;padding-right: 0.2em;padding-left: 0.2em;position: relative;}#sk-container-id-1 div.sk-item {position: relative;z-index: 1;}#sk-container-id-1 div.sk-parallel {display: flex;align-items: stretch;justify-content: center;background-color: white;position: relative;}#sk-container-id-1 div.sk-item::before, #sk-container-id-1 div.sk-parallel-item::before {content: \"\";position: absolute;border-left: 1px solid gray;box-sizing: border-box;top: 0;bottom: 0;left: 50%;z-index: -1;}#sk-container-id-1 div.sk-parallel-item {display: flex;flex-direction: column;z-index: 1;position: relative;background-color: white;}#sk-container-id-1 div.sk-parallel-item:first-child::after {align-self: flex-end;width: 50%;}#sk-container-id-1 div.sk-parallel-item:last-child::after {align-self: flex-start;width: 50%;}#sk-container-id-1 div.sk-parallel-item:only-child::after {width: 0;}#sk-container-id-1 div.sk-dashed-wrapped {border: 1px dashed gray;margin: 0 0.4em 0.5em 0.4em;box-sizing: border-box;padding-bottom: 0.4em;background-color: white;}#sk-container-id-1 div.sk-label label {font-family: monospace;font-weight: bold;display: inline-block;line-height: 1.2em;}#sk-container-id-1 div.sk-label-container {text-align: center;}#sk-container-id-1 div.sk-container {/* jupyter's `normalize.less` sets `[hidden] { display: none; }` but bootstrap.min.css set `[hidden] { display: none !important; }` so we also need the `!important` here to be able to override the default hidden behavior on the sphinx rendered scikit-learn.org. See: https://github.com/scikit-learn/scikit-learn/issues/21755 */display: inline-block !important;position: relative;}#sk-container-id-1 div.sk-text-repr-fallback {display: none;}</style><div id=\"sk-container-id-1\" class=\"sk-top-container\"><div class=\"sk-text-repr-fallback\"><pre>RandomForestClassifier()</pre><b>In a Jupyter environment, please rerun this cell to show the HTML representation or trust the notebook. <br />On GitHub, the HTML representation is unable to render, please try loading this page with nbviewer.org.</b></div><div class=\"sk-container\" hidden><div class=\"sk-item\"><div class=\"sk-estimator sk-toggleable\"><input class=\"sk-toggleable__control sk-hidden--visually\" id=\"sk-estimator-id-1\" type=\"checkbox\" checked><label for=\"sk-estimator-id-1\" class=\"sk-toggleable__label sk-toggleable__label-arrow\">RandomForestClassifier</label><div class=\"sk-toggleable__content\"><pre>RandomForestClassifier()</pre></div></div></div></div></div>"
            ]
          },
          "metadata": {},
          "execution_count": 36
        }
      ]
    },
    {
      "cell_type": "markdown",
      "source": [
        "# **Predict Test Data**"
      ],
      "metadata": {
        "id": "j7vR_UACftwa"
      }
    },
    {
      "cell_type": "code",
      "source": [
        "y_pred=rf.predict(X_test)"
      ],
      "metadata": {
        "id": "WBxYkN_Yfrz6"
      },
      "execution_count": 37,
      "outputs": []
    },
    {
      "cell_type": "code",
      "source": [
        "y_pred"
      ],
      "metadata": {
        "colab": {
          "base_uri": "https://localhost:8080/"
        },
        "id": "0gCCIx15gjVg",
        "outputId": "f4dcabd3-bdce-4cc1-d8d5-168bb2ac1c5b"
      },
      "execution_count": 38,
      "outputs": [
        {
          "output_type": "execute_result",
          "data": {
            "text/plain": [
              "array([7, 4, 8, 9, 6, 2, 0, 3, 3, 6, 6, 3, 7, 3, 9, 8, 5, 7, 6, 8, 1, 2,\n",
              "       5, 0, 4, 5, 6, 7, 6, 2, 1, 7, 1, 1, 7, 0, 3, 4, 8, 7, 2, 2, 5, 1,\n",
              "       7, 2, 7, 7, 4, 3, 1, 5, 5, 4, 1, 9, 2, 1, 3, 1, 8, 5, 0, 7, 2, 2,\n",
              "       1, 4, 8, 3, 6, 0, 5, 6, 0, 8, 0, 2, 9, 7, 3, 9, 8, 3, 1, 8, 3, 7,\n",
              "       6, 9, 8, 5, 0, 9, 9, 7, 4, 2, 3, 2, 4, 0, 2, 6, 6, 6, 6, 5, 3, 3,\n",
              "       5, 6, 8, 4, 2, 5, 2, 1, 6, 0, 7, 5, 5, 0, 5, 5, 1, 0, 4, 6, 3, 4,\n",
              "       6, 7, 2, 7, 5, 9, 5, 8, 3, 7, 9, 4, 0, 1, 1, 3, 5, 5, 4, 7, 2, 7,\n",
              "       6, 7, 2, 4, 6, 9, 6, 6, 9, 8, 3, 5, 3, 9, 8, 4, 7, 1, 1, 3, 6, 9,\n",
              "       1, 2, 1, 9, 7, 5, 0, 2, 0, 3, 9, 9, 5, 2, 2, 2, 6, 8, 1, 3, 9, 2,\n",
              "       8, 1, 9, 5, 3, 4, 7, 9, 7, 1, 3, 2, 2, 2, 9, 5, 1, 1, 9, 8, 7, 2,\n",
              "       3, 1, 2, 7, 4, 2, 2, 6, 0, 9, 6, 8, 9, 6, 8, 8, 6, 1, 0, 6, 7, 2,\n",
              "       4, 7, 7, 4, 1, 2, 1, 7, 2, 3, 9, 7, 1, 3, 9, 1, 3, 7, 0, 0, 7, 2,\n",
              "       5, 1, 8, 8, 4, 0, 0, 0, 6, 5, 5, 1, 9, 9, 1, 9, 8, 2, 3, 2, 7, 9,\n",
              "       3, 1, 6, 5, 3, 3, 4, 0, 0, 3, 8, 7, 2, 4, 6, 8, 4, 4, 4, 2, 1, 4,\n",
              "       4, 0, 5, 1, 7, 9, 6, 7, 1, 8, 0, 7, 9, 0, 7, 0, 1, 4, 8, 1, 5, 6,\n",
              "       3, 4, 6, 0, 3, 9, 8, 7, 7, 2, 1, 9, 4, 2, 6, 7, 4, 3, 2, 8, 8, 7,\n",
              "       8, 2, 1, 6, 2, 8, 0, 7, 5, 8, 3, 5, 1, 3, 8, 8, 3, 9, 2, 6, 9, 4,\n",
              "       7, 9, 7, 4, 3, 0, 8, 9, 9, 3, 7, 1, 0, 4, 8, 8, 4, 8, 4, 0, 2, 5,\n",
              "       4, 6, 4, 3, 9, 1, 3, 5, 6, 2, 6, 6, 7, 4, 5, 6, 3, 8, 5, 0, 6, 4,\n",
              "       9, 9, 5, 2, 3, 1, 3, 1, 0, 7, 2, 9, 8, 6, 3, 9, 8, 3, 0, 5, 5, 0,\n",
              "       5, 0, 7, 1, 5, 0, 1, 0, 3, 1, 9, 7, 1, 7, 2, 6, 8, 2, 7, 5, 6, 6,\n",
              "       3, 8, 5, 9, 0, 6, 7, 0, 0, 7, 6, 0, 1, 4, 7, 1, 3, 9, 8, 6, 5, 7,\n",
              "       6, 1, 0, 7, 2, 0, 9, 8, 7, 9, 6, 3, 0, 1, 8, 4, 1, 2, 1, 6, 8, 3,\n",
              "       0, 8, 5, 8, 1, 1, 5, 4, 2, 3, 8, 5, 2, 1, 1, 2, 9, 2, 4, 1, 2, 3,\n",
              "       1, 3, 8, 5, 6, 4, 0, 1, 9, 8, 9, 3])"
            ]
          },
          "metadata": {},
          "execution_count": 38
        }
      ]
    },
    {
      "cell_type": "markdown",
      "source": [
        "# **Model Evaluation**"
      ],
      "metadata": {
        "id": "BvXdJ7lAgoVM"
      }
    },
    {
      "cell_type": "code",
      "source": [
        "from sklearn.metrics import confusion_matrix , classification_report"
      ],
      "metadata": {
        "id": "HfvrN-Bogluo"
      },
      "execution_count": 39,
      "outputs": []
    },
    {
      "cell_type": "code",
      "source": [
        "confusion_matrix(y_test,y_pred)"
      ],
      "metadata": {
        "colab": {
          "base_uri": "https://localhost:8080/"
        },
        "id": "YZ-wXK2Rg5BL",
        "outputId": "4feeec9a-e6ce-4ca7-80f3-101f49e0bd5e"
      },
      "execution_count": 40,
      "outputs": [
        {
          "output_type": "execute_result",
          "data": {
            "text/plain": [
              "array([[48,  0,  0,  0,  1,  0,  0,  0,  0,  0],\n",
              "       [ 0, 63,  0,  0,  0,  1,  0,  0,  0,  0],\n",
              "       [ 1,  0, 58,  0,  0,  0,  0,  0,  0,  0],\n",
              "       [ 0,  0,  0, 57,  0,  1,  0,  0,  2,  0],\n",
              "       [ 0,  0,  0,  0, 43,  0,  0,  2,  0,  0],\n",
              "       [ 0,  0,  0,  0,  1, 44,  0,  0,  0,  0],\n",
              "       [ 0,  0,  0,  0,  0,  1, 54,  0,  0,  0],\n",
              "       [ 0,  0,  0,  0,  0,  0,  0, 57,  0,  1],\n",
              "       [ 0,  0,  0,  0,  0,  1,  0,  1, 50,  0],\n",
              "       [ 0,  0,  0,  0,  0,  1,  0,  0,  1, 51]])"
            ]
          },
          "metadata": {},
          "execution_count": 40
        }
      ]
    },
    {
      "cell_type": "code",
      "source": [
        "print(classification_report(y_test, y_pred))"
      ],
      "metadata": {
        "colab": {
          "base_uri": "https://localhost:8080/"
        },
        "id": "avy4dbC9g9xH",
        "outputId": "82f24a2b-e84d-4e34-9960-c5c53c8dfe03"
      },
      "execution_count": 44,
      "outputs": [
        {
          "output_type": "stream",
          "name": "stdout",
          "text": [
            "              precision    recall  f1-score   support\n",
            "\n",
            "           0       0.98      0.98      0.98        49\n",
            "           1       1.00      0.98      0.99        64\n",
            "           2       1.00      0.98      0.99        59\n",
            "           3       1.00      0.95      0.97        60\n",
            "           4       0.96      0.96      0.96        45\n",
            "           5       0.90      0.98      0.94        45\n",
            "           6       1.00      0.98      0.99        55\n",
            "           7       0.95      0.98      0.97        58\n",
            "           8       0.94      0.96      0.95        52\n",
            "           9       0.98      0.96      0.97        53\n",
            "\n",
            "    accuracy                           0.97       540\n",
            "   macro avg       0.97      0.97      0.97       540\n",
            "weighted avg       0.97      0.97      0.97       540\n",
            "\n"
          ]
        }
      ]
    },
    {
      "cell_type": "markdown",
      "source": [
        "# **Explanation**"
      ],
      "metadata": {
        "id": "8Lj8VZaxiSv4"
      }
    },
    {
      "cell_type": "markdown",
      "source": [
        "So, we have found that the accuracy of this Hand Written Digit prediction model is around 97%. "
      ],
      "metadata": {
        "id": "qRsNTnCWiYKv"
      }
    }
  ]
}